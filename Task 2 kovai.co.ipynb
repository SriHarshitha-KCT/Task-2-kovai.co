{
 "cells": [
  {
   "cell_type": "markdown",
   "id": "c61a5b64",
   "metadata": {},
   "source": [
    "## Importing necessary libraries"
   ]
  },
  {
   "cell_type": "code",
   "execution_count": 1,
   "id": "d1cf8c2b",
   "metadata": {},
   "outputs": [],
   "source": [
    "import pandas as pd\n",
    "import numpy as np\n",
    "import matplotlib.pyplot as plt\n",
    "import seaborn as sns\n",
    "%matplotlib inline\n",
    "import warnings\n",
    "warnings.filterwarnings(\"ignore\")"
   ]
  },
  {
   "cell_type": "markdown",
   "id": "96a20e45",
   "metadata": {},
   "source": [
    "## Basic EDA"
   ]
  },
  {
   "cell_type": "code",
   "execution_count": 2,
   "id": "70f6bb36",
   "metadata": {},
   "outputs": [],
   "source": [
    "df=pd.read_csv(r\"C:\\Users\\Sri_Harshitha\\Downloads\\Tasks\\Video Games Sales.csv\")"
   ]
  },
  {
   "cell_type": "code",
   "execution_count": 3,
   "id": "a8f9aa0e",
   "metadata": {},
   "outputs": [
    {
     "data": {
      "text/html": [
       "<div>\n",
       "<style scoped>\n",
       "    .dataframe tbody tr th:only-of-type {\n",
       "        vertical-align: middle;\n",
       "    }\n",
       "\n",
       "    .dataframe tbody tr th {\n",
       "        vertical-align: top;\n",
       "    }\n",
       "\n",
       "    .dataframe thead th {\n",
       "        text-align: right;\n",
       "    }\n",
       "</style>\n",
       "<table border=\"1\" class=\"dataframe\">\n",
       "  <thead>\n",
       "    <tr style=\"text-align: right;\">\n",
       "      <th></th>\n",
       "      <th>index</th>\n",
       "      <th>Rank</th>\n",
       "      <th>Game Title</th>\n",
       "      <th>Platform</th>\n",
       "      <th>Year</th>\n",
       "      <th>Genre</th>\n",
       "      <th>Publisher</th>\n",
       "      <th>North America</th>\n",
       "      <th>Europe</th>\n",
       "      <th>Japan</th>\n",
       "      <th>Rest of World</th>\n",
       "      <th>Global</th>\n",
       "      <th>Review</th>\n",
       "    </tr>\n",
       "  </thead>\n",
       "  <tbody>\n",
       "    <tr>\n",
       "      <th>0</th>\n",
       "      <td>0</td>\n",
       "      <td>1</td>\n",
       "      <td>Wii Sports</td>\n",
       "      <td>Wii</td>\n",
       "      <td>2006.0</td>\n",
       "      <td>Sports</td>\n",
       "      <td>Nintendo</td>\n",
       "      <td>40.43</td>\n",
       "      <td>28.39</td>\n",
       "      <td>3.77</td>\n",
       "      <td>8.54</td>\n",
       "      <td>81.12</td>\n",
       "      <td>76.28</td>\n",
       "    </tr>\n",
       "    <tr>\n",
       "      <th>1</th>\n",
       "      <td>1</td>\n",
       "      <td>2</td>\n",
       "      <td>Super Mario Bros.</td>\n",
       "      <td>NES</td>\n",
       "      <td>1985.0</td>\n",
       "      <td>Platform</td>\n",
       "      <td>Nintendo</td>\n",
       "      <td>29.08</td>\n",
       "      <td>3.58</td>\n",
       "      <td>6.81</td>\n",
       "      <td>0.77</td>\n",
       "      <td>40.24</td>\n",
       "      <td>91.00</td>\n",
       "    </tr>\n",
       "    <tr>\n",
       "      <th>2</th>\n",
       "      <td>2</td>\n",
       "      <td>3</td>\n",
       "      <td>Mario Kart Wii</td>\n",
       "      <td>Wii</td>\n",
       "      <td>2008.0</td>\n",
       "      <td>Racing</td>\n",
       "      <td>Nintendo</td>\n",
       "      <td>14.50</td>\n",
       "      <td>12.22</td>\n",
       "      <td>3.63</td>\n",
       "      <td>3.21</td>\n",
       "      <td>33.55</td>\n",
       "      <td>82.07</td>\n",
       "    </tr>\n",
       "    <tr>\n",
       "      <th>3</th>\n",
       "      <td>3</td>\n",
       "      <td>4</td>\n",
       "      <td>Wii Sports Resort</td>\n",
       "      <td>Wii</td>\n",
       "      <td>2009.0</td>\n",
       "      <td>Sports</td>\n",
       "      <td>Nintendo</td>\n",
       "      <td>14.82</td>\n",
       "      <td>10.51</td>\n",
       "      <td>3.18</td>\n",
       "      <td>3.01</td>\n",
       "      <td>31.52</td>\n",
       "      <td>82.65</td>\n",
       "    </tr>\n",
       "    <tr>\n",
       "      <th>4</th>\n",
       "      <td>4</td>\n",
       "      <td>5</td>\n",
       "      <td>Tetris</td>\n",
       "      <td>GB</td>\n",
       "      <td>1989.0</td>\n",
       "      <td>Puzzle</td>\n",
       "      <td>Nintendo</td>\n",
       "      <td>23.20</td>\n",
       "      <td>2.26</td>\n",
       "      <td>4.22</td>\n",
       "      <td>0.58</td>\n",
       "      <td>30.26</td>\n",
       "      <td>88.00</td>\n",
       "    </tr>\n",
       "  </tbody>\n",
       "</table>\n",
       "</div>"
      ],
      "text/plain": [
       "   index  Rank         Game Title Platform    Year     Genre Publisher  \\\n",
       "0      0     1         Wii Sports      Wii  2006.0    Sports  Nintendo   \n",
       "1      1     2  Super Mario Bros.      NES  1985.0  Platform  Nintendo   \n",
       "2      2     3     Mario Kart Wii      Wii  2008.0    Racing  Nintendo   \n",
       "3      3     4  Wii Sports Resort      Wii  2009.0    Sports  Nintendo   \n",
       "4      4     5             Tetris       GB  1989.0    Puzzle  Nintendo   \n",
       "\n",
       "   North America  Europe  Japan  Rest of World  Global  Review  \n",
       "0          40.43   28.39   3.77           8.54   81.12   76.28  \n",
       "1          29.08    3.58   6.81           0.77   40.24   91.00  \n",
       "2          14.50   12.22   3.63           3.21   33.55   82.07  \n",
       "3          14.82   10.51   3.18           3.01   31.52   82.65  \n",
       "4          23.20    2.26   4.22           0.58   30.26   88.00  "
      ]
     },
     "execution_count": 3,
     "metadata": {},
     "output_type": "execute_result"
    }
   ],
   "source": [
    "df.head()"
   ]
  },
  {
   "cell_type": "code",
   "execution_count": 4,
   "id": "0d0fc452",
   "metadata": {},
   "outputs": [
    {
     "data": {
      "text/plain": [
       "(1907, 13)"
      ]
     },
     "execution_count": 4,
     "metadata": {},
     "output_type": "execute_result"
    }
   ],
   "source": [
    "df.shape"
   ]
  },
  {
   "cell_type": "code",
   "execution_count": 5,
   "id": "88528ea5",
   "metadata": {},
   "outputs": [
    {
     "data": {
      "text/plain": [
       "Index(['index', 'Rank', 'Game Title', 'Platform', 'Year', 'Genre', 'Publisher',\n",
       "       'North America', 'Europe', 'Japan', 'Rest of World', 'Global',\n",
       "       'Review'],\n",
       "      dtype='object')"
      ]
     },
     "execution_count": 5,
     "metadata": {},
     "output_type": "execute_result"
    }
   ],
   "source": [
    "df.columns"
   ]
  },
  {
   "cell_type": "code",
   "execution_count": 6,
   "id": "4f05db4a",
   "metadata": {},
   "outputs": [],
   "source": [
    "df=df.drop([\"index\"],axis=1)"
   ]
  },
  {
   "cell_type": "code",
   "execution_count": 7,
   "id": "265afc8c",
   "metadata": {},
   "outputs": [
    {
     "data": {
      "text/plain": [
       "PS2     372\n",
       "PS      223\n",
       "X360    219\n",
       "PS3     202\n",
       "Wii     161\n",
       "DS      149\n",
       "GBA      75\n",
       "XB       72\n",
       "PC       71\n",
       "PSP      63\n",
       "NES      60\n",
       "N64      57\n",
       "GC       55\n",
       "GB       48\n",
       "SNES     41\n",
       "3DS      15\n",
       "GEN      11\n",
       "DC        6\n",
       "SAT       3\n",
       "WiiU      2\n",
       "SCD       1\n",
       "PSV       1\n",
       "Name: Platform, dtype: int64"
      ]
     },
     "execution_count": 7,
     "metadata": {},
     "output_type": "execute_result"
    }
   ],
   "source": [
    "df[\"Platform\"].value_counts()"
   ]
  },
  {
   "cell_type": "code",
   "execution_count": 8,
   "id": "fec6d0fa",
   "metadata": {},
   "outputs": [
    {
     "data": {
      "text/plain": [
       "22"
      ]
     },
     "execution_count": 8,
     "metadata": {},
     "output_type": "execute_result"
    }
   ],
   "source": [
    "df[\"Platform\"].nunique()"
   ]
  },
  {
   "cell_type": "code",
   "execution_count": 9,
   "id": "d09511de",
   "metadata": {},
   "outputs": [
    {
     "data": {
      "text/plain": [
       "2008.0    184\n",
       "2007.0    157\n",
       "2009.0    131\n",
       "2010.0    130\n",
       "2004.0    122\n",
       "2003.0    114\n",
       "2002.0    110\n",
       "2005.0    105\n",
       "2006.0    103\n",
       "2011.0    100\n",
       "2001.0     91\n",
       "1998.0     81\n",
       "2000.0     67\n",
       "1999.0     66\n",
       "2012.0     60\n",
       "1997.0     54\n",
       "1996.0     47\n",
       "1995.0     22\n",
       "1994.0     21\n",
       "1992.0     20\n",
       "1990.0     13\n",
       "1993.0     12\n",
       "1986.0     12\n",
       "1991.0     10\n",
       "1984.0      9\n",
       "1989.0      9\n",
       "1988.0      9\n",
       "1987.0      7\n",
       "1985.0      6\n",
       "1983.0      6\n",
       "Name: Year, dtype: int64"
      ]
     },
     "execution_count": 9,
     "metadata": {},
     "output_type": "execute_result"
    }
   ],
   "source": [
    "df[\"Year\"].value_counts()"
   ]
  },
  {
   "cell_type": "code",
   "execution_count": 10,
   "id": "feb8b4a8",
   "metadata": {},
   "outputs": [
    {
     "data": {
      "text/plain": [
       "Text(0.5, 1.0, 'Game Genres')"
      ]
     },
     "execution_count": 10,
     "metadata": {},
     "output_type": "execute_result"
    },
    {
     "data": {
      "image/png": "[encoded data removed]",
      "text/plain": [
       "<Figure size 576x576 with 1 Axes>"
      ]
     },
     "metadata": {},
     "output_type": "display_data"
    }
   ],
   "source": [
    "plt.figure(figsize=(8, 8))\n",
    "plt.pie(df['Genre'].value_counts(), labels=df['Genre'].value_counts().index, autopct='%1.1f%%', startangle=140)\n",
    "plt.title('Game Genres')"
   ]
  },
  {
   "cell_type": "code",
   "execution_count": 11,
   "id": "4c51defc",
   "metadata": {},
   "outputs": [
    {
     "data": {
      "text/plain": [
       "Electronic Arts                341\n",
       "Nintendo                       296\n",
       "Sony Computer Entertainment    156\n",
       "Activision                     141\n",
       "Ubisoft                         93\n",
       "                              ... \n",
       "Sony Online Entertainment        1\n",
       "Natsume                          1\n",
       "Pacific Century Cyber Works      1\n",
       "Square EA                        1\n",
       "Pinnacle                         1\n",
       "Name: Publisher, Length: 94, dtype: int64"
      ]
     },
     "execution_count": 11,
     "metadata": {},
     "output_type": "execute_result"
    }
   ],
   "source": [
    "df[\"Publisher\"].value_counts()"
   ]
  },
  {
   "cell_type": "code",
   "execution_count": 12,
   "id": "7ff1ec48",
   "metadata": {},
   "outputs": [
    {
     "data": {
      "text/plain": [
       "94"
      ]
     },
     "execution_count": 12,
     "metadata": {},
     "output_type": "execute_result"
    }
   ],
   "source": [
    "df[\"Publisher\"].nunique()"
   ]
  },
  {
   "cell_type": "markdown",
   "id": "1ad4f7fa",
   "metadata": {},
   "source": [
    "## Year"
   ]
  },
  {
   "cell_type": "code",
   "execution_count": 13,
   "id": "75fbab13",
   "metadata": {},
   "outputs": [
    {
     "data": {
      "image/png": "[encoded data removed]",
      "text/plain": [
       "<Figure size 864x432 with 1 Axes>"
      ]
     },
     "metadata": {
      "needs_background": "light"
     },
     "output_type": "display_data"
    }
   ],
   "source": [
    "game_count_by_year = df.groupby('Year')['Game Title'].count()\n",
    "# Create a line chart\n",
    "plt.figure(figsize=(12, 6))\n",
    "plt.plot(game_count_by_year.index, game_count_by_year.values)\n",
    "plt.title('Number of Games Released by Year')\n",
    "plt.xlabel('Year')\n",
    "plt.ylabel('Number of Games')\n",
    "plt.grid(True)"
   ]
  },
  {
   "cell_type": "code",
   "execution_count": 14,
   "id": "c4b94aaf",
   "metadata": {},
   "outputs": [
    {
     "data": {
      "text/plain": [
       "array([81.12, 40.24, 33.55, 31.52, 30.26, 29.08, 28.71, 28.31, 26.75,\n",
       "       24.5 , 23.1 , 22.74, 22.47, 21.15, 20.81, 20.61, 20.02, 19.9 ,\n",
       "       18.14, 18.05, 17.28, 16.15, 15.85, 15.24, 14.88, 14.87, 14.64,\n",
       "       13.9 , 13.1 , 13.  , 12.65, 11.89, 11.88, 11.85, 11.84, 11.75,\n",
       "       11.58, 11.51, 11.36, 11.23, 11.18, 11.15, 10.76, 10.55, 10.49,\n",
       "       10.18, 10.12,  9.94,  9.87,  9.86,  9.78,  9.72,  9.66,  9.4 ,\n",
       "        9.39,  9.36,  9.3 ,  8.87,  8.82,  8.76,  8.69,  8.49,  8.23,\n",
       "        8.09,  8.05,  8.03,  7.94,  7.9 ,  7.87,  7.86,  7.71,  7.6 ,\n",
       "        7.52,  7.47,  7.46,  7.2 ,  7.16,  7.11,  7.07,  7.01,  6.96,\n",
       "        6.95,  6.92,  6.9 ,  6.83,  6.76,  6.7 ,  6.6 ,  6.56,  6.51,\n",
       "        6.43,  6.41,  6.39,  6.38,  6.32,  6.31,  6.3 ,  6.27,  6.25,\n",
       "        6.16,  6.14,  6.13,  6.05,  6.03,  5.99,  5.95,  5.92,  5.85,\n",
       "        5.82,  5.8 ,  5.75,  5.74,  5.67,  5.64,  5.58,  5.55,  5.54,\n",
       "        5.49,  5.47,  5.46,  5.45,  5.42,  5.37,  5.36,  5.35,  5.34,\n",
       "        5.32,  5.31,  5.3 ,  5.29,  5.27,  5.24,  5.23,  5.21,  5.2 ,\n",
       "        5.19,  5.15,  5.13,  5.12,  5.08,  5.07,  5.06,  5.05,  5.02,\n",
       "        5.01,  5.  ,  4.99,  4.98,  4.97,  4.95,  4.94,  4.91,  4.89,\n",
       "        4.88,  4.85,  4.84,  4.79,  4.76,  4.73,  4.71,  4.7 ,  4.68,\n",
       "        4.67,  4.63,  4.61,  4.6 ,  4.55,  4.53,  4.51,  4.49,  4.48,\n",
       "        4.47,  4.45,  4.44,  4.41,  4.39,  4.38,  4.37,  4.36,  4.34,\n",
       "        4.24,  4.23,  4.21,  4.2 ,  4.18,  4.16,  4.14,  4.13,  4.12,\n",
       "        4.11,  4.1 ,  4.07,  4.06,  4.05,  4.03,  4.02,  4.01,  3.99,\n",
       "        3.98,  3.95,  3.94,  3.92,  3.91,  3.9 ,  3.89,  3.87,  3.85,\n",
       "        3.84,  3.83,  3.79,  3.77,  3.76,  3.73,  3.72,  3.71,  3.7 ,\n",
       "        3.67,  3.65,  3.64,  3.63,  3.62,  3.61,  3.6 ,  3.59,  3.58,\n",
       "        3.57,  3.54,  3.53,  3.52,  3.51,  3.5 ,  3.49,  3.48,  3.46,\n",
       "        3.44,  3.43,  3.42,  3.41,  3.4 ,  3.39,  3.36,  3.35,  3.34,\n",
       "        3.33,  3.32,  3.31,  3.3 ,  3.29,  3.28,  3.27,  3.26,  3.24,\n",
       "        3.21,  3.2 ,  3.19,  3.18,  3.17,  3.15,  3.14,  3.13,  3.12,\n",
       "        3.09,  3.08,  3.07,  3.05,  3.04,  3.03,  3.02,  3.01,  3.  ,\n",
       "        2.99,  2.97,  2.96,  2.94,  2.92,  2.91,  2.9 ,  2.89,  2.88,\n",
       "        2.87,  2.86,  2.85,  2.84,  2.83,  2.82,  2.8 ,  2.79,  2.78,\n",
       "        2.77,  2.76,  2.75,  2.73,  2.72,  2.7 ,  2.69,  2.68,  2.67,\n",
       "        2.66,  2.65,  2.64,  2.63,  2.62,  2.61,  2.6 ,  2.59,  2.58,\n",
       "        2.57,  2.56,  2.55,  2.54,  2.53,  2.52,  2.51,  2.5 ,  2.49,\n",
       "        2.48,  2.47,  2.46,  2.45,  2.44,  2.43,  2.42,  2.41,  2.4 ,\n",
       "        2.39,  2.38,  2.37,  2.36,  2.35,  2.34,  2.32,  2.31,  2.3 ,\n",
       "        2.29,  2.28,  2.27,  2.26,  2.25,  2.24,  2.23,  2.22,  2.21,\n",
       "        2.2 ,  2.19,  2.18,  2.17,  2.16,  2.15,  2.14,  2.13,  2.12,\n",
       "        2.11,  2.1 ,  2.09,  2.08,  2.07,  2.06,  2.05,  2.04,  2.03,\n",
       "        2.02,  2.01,  2.  ,  1.99,  1.98,  1.97,  1.96,  1.95,  1.94,\n",
       "        1.93,  1.92,  1.91,  1.9 ,  1.88,  1.87,  1.86,  1.85,  1.84,\n",
       "        1.83,  1.82,  1.81,  1.8 ,  1.79,  1.78,  1.77,  1.76,  1.75,\n",
       "        1.74,  1.73,  1.72,  1.71,  1.7 ,  1.69,  1.68,  1.67,  1.66,\n",
       "        1.65,  1.64,  1.63,  1.62,  1.61,  1.6 ,  1.59,  1.58,  1.57,\n",
       "        1.56,  1.55,  1.54,  1.53,  1.52,  1.51,  1.5 ,  1.49,  1.48,\n",
       "        1.47,  1.46,  1.45,  1.44,  1.43,  1.42,  1.41,  1.4 ,  1.39,\n",
       "        1.38,  1.37,  1.36,  1.35,  1.34,  1.33,  1.32,  1.31,  1.3 ,\n",
       "        1.29,  1.28,  1.27,  1.26,  1.25,  1.24,  1.23,  1.22,  1.21,\n",
       "        1.2 ,  1.19,  1.18,  1.17,  1.16,  1.15,  1.14,  1.13,  1.12,\n",
       "        1.11,  1.1 ,  1.09,  1.08,  1.07,  1.06,  1.05,  1.04,  1.03,\n",
       "        1.02,  1.01,  1.  ,  0.99,  0.98,  0.97,  0.96,  0.95,  0.94,\n",
       "        0.93,  0.92,  0.91,  0.9 ,  0.89,  0.88,  0.87,  0.86,  0.85,\n",
       "        0.84,  0.83])"
      ]
     },
     "execution_count": 14,
     "metadata": {},
     "output_type": "execute_result"
    }
   ],
   "source": [
    "df[\"Global\"].unique()"
   ]
  },
  {
   "cell_type": "code",
   "execution_count": 15,
   "id": "9821edf6",
   "metadata": {},
   "outputs": [
    {
     "name": "stdout",
     "output_type": "stream",
     "text": [
      "           Genre  Global     Review\n",
      "10        Sports  703.11  78.839513\n",
      "0         Action  637.27  78.953709\n",
      "4       Platform  595.24  78.384202\n",
      "8        Shooter  557.20  81.079806\n",
      "7   Role-Playing  496.20  83.913410\n",
      "6         Racing  451.80  78.105376\n",
      "3           Misc  426.12  72.769874\n",
      "2       Fighting  249.00  82.208651\n",
      "1      Adventure  239.45  81.480182\n",
      "9     Simulation  205.14  73.811848\n",
      "5         Puzzle  108.65  74.306818\n",
      "11      Strategy   77.80  82.437250\n"
     ]
    }
   ],
   "source": [
    "# Group the data by 'Genre' and aggregate the global sales and review scores\n",
    "genre_sales_review = df.groupby('Genre').agg({'Global': 'sum', 'Review': 'mean'}).reset_index().sort_values(by='Global', ascending=False)\n",
    "print(genre_sales_review)"
   ]
  },
  {
   "cell_type": "code",
   "execution_count": 16,
   "id": "75a7b1b6",
   "metadata": {},
   "outputs": [],
   "source": [
    "# Group the data by 'Platform' and 'Genre' and aggregate global sales and review scores\n",
    "platform_genre_analysis = df.groupby(['Platform', 'Genre']).agg({'Global': 'sum', 'Review': 'mean'}).reset_index()\n",
    "platform_genre_global_sorted = platform_genre_analysis.sort_values(by='Global', ascending=False)\n",
    "platform_genre_review_sorted = platform_genre_analysis.sort_values(by='Review', ascending=False)\n"
   ]
  },
  {
   "cell_type": "code",
   "execution_count": 17,
   "id": "79a5e8b2",
   "metadata": {},
   "outputs": [
    {
     "data": {
      "text/html": [
       "<div>\n",
       "<style scoped>\n",
       "    .dataframe tbody tr th:only-of-type {\n",
       "        vertical-align: middle;\n",
       "    }\n",
       "\n",
       "    .dataframe tbody tr th {\n",
       "        vertical-align: top;\n",
       "    }\n",
       "\n",
       "    .dataframe thead th {\n",
       "        text-align: right;\n",
       "    }\n",
       "</style>\n",
       "<table border=\"1\" class=\"dataframe\">\n",
       "  <thead>\n",
       "    <tr style=\"text-align: right;\">\n",
       "      <th></th>\n",
       "      <th>Platform</th>\n",
       "      <th>Genre</th>\n",
       "      <th>Global</th>\n",
       "      <th>Review</th>\n",
       "    </tr>\n",
       "  </thead>\n",
       "  <tbody>\n",
       "    <tr>\n",
       "      <th>163</th>\n",
       "      <td>Wii</td>\n",
       "      <td>Sports</td>\n",
       "      <td>230.96</td>\n",
       "      <td>68.797556</td>\n",
       "    </tr>\n",
       "    <tr>\n",
       "      <th>172</th>\n",
       "      <td>X360</td>\n",
       "      <td>Shooter</td>\n",
       "      <td>198.56</td>\n",
       "      <td>84.123273</td>\n",
       "    </tr>\n",
       "    <tr>\n",
       "      <th>114</th>\n",
       "      <td>PS2</td>\n",
       "      <td>Sports</td>\n",
       "      <td>189.63</td>\n",
       "      <td>82.616277</td>\n",
       "    </tr>\n",
       "    <tr>\n",
       "      <th>104</th>\n",
       "      <td>PS2</td>\n",
       "      <td>Action</td>\n",
       "      <td>181.17</td>\n",
       "      <td>78.575469</td>\n",
       "    </tr>\n",
       "    <tr>\n",
       "      <th>156</th>\n",
       "      <td>Wii</td>\n",
       "      <td>Misc</td>\n",
       "      <td>137.43</td>\n",
       "      <td>68.855263</td>\n",
       "    </tr>\n",
       "    <tr>\n",
       "      <th>116</th>\n",
       "      <td>PS3</td>\n",
       "      <td>Action</td>\n",
       "      <td>122.67</td>\n",
       "      <td>83.590222</td>\n",
       "    </tr>\n",
       "  </tbody>\n",
       "</table>\n",
       "</div>"
      ],
      "text/plain": [
       "    Platform    Genre  Global     Review\n",
       "163      Wii   Sports  230.96  68.797556\n",
       "172     X360  Shooter  198.56  84.123273\n",
       "114      PS2   Sports  189.63  82.616277\n",
       "104      PS2   Action  181.17  78.575469\n",
       "156      Wii     Misc  137.43  68.855263\n",
       "116      PS3   Action  122.67  83.590222"
      ]
     },
     "execution_count": 17,
     "metadata": {},
     "output_type": "execute_result"
    }
   ],
   "source": [
    "platform_genre_global_sorted.head(6)"
   ]
  },
  {
   "cell_type": "code",
   "execution_count": 18,
   "id": "aaf280e6",
   "metadata": {},
   "outputs": [
    {
     "data": {
      "text/html": [
       "<div>\n",
       "<style scoped>\n",
       "    .dataframe tbody tr th:only-of-type {\n",
       "        vertical-align: middle;\n",
       "    }\n",
       "\n",
       "    .dataframe tbody tr th {\n",
       "        vertical-align: top;\n",
       "    }\n",
       "\n",
       "    .dataframe thead th {\n",
       "        text-align: right;\n",
       "    }\n",
       "</style>\n",
       "<table border=\"1\" class=\"dataframe\">\n",
       "  <thead>\n",
       "    <tr style=\"text-align: right;\">\n",
       "      <th></th>\n",
       "      <th>Platform</th>\n",
       "      <th>Genre</th>\n",
       "      <th>Global</th>\n",
       "      <th>Review</th>\n",
       "    </tr>\n",
       "  </thead>\n",
       "  <tbody>\n",
       "    <tr>\n",
       "      <th>147</th>\n",
       "      <td>SNES</td>\n",
       "      <td>Puzzle</td>\n",
       "      <td>1.70</td>\n",
       "      <td>94.000</td>\n",
       "    </tr>\n",
       "    <tr>\n",
       "      <th>143</th>\n",
       "      <td>SNES</td>\n",
       "      <td>Adventure</td>\n",
       "      <td>6.03</td>\n",
       "      <td>94.000</td>\n",
       "    </tr>\n",
       "    <tr>\n",
       "      <th>8</th>\n",
       "      <td>DC</td>\n",
       "      <td>Action</td>\n",
       "      <td>1.14</td>\n",
       "      <td>93.630</td>\n",
       "    </tr>\n",
       "    <tr>\n",
       "      <th>63</th>\n",
       "      <td>N64</td>\n",
       "      <td>Adventure</td>\n",
       "      <td>10.96</td>\n",
       "      <td>93.500</td>\n",
       "    </tr>\n",
       "    <tr>\n",
       "      <th>12</th>\n",
       "      <td>DC</td>\n",
       "      <td>Sports</td>\n",
       "      <td>2.29</td>\n",
       "      <td>93.015</td>\n",
       "    </tr>\n",
       "    <tr>\n",
       "      <th>69</th>\n",
       "      <td>N64</td>\n",
       "      <td>Role-Playing</td>\n",
       "      <td>1.38</td>\n",
       "      <td>92.000</td>\n",
       "    </tr>\n",
       "  </tbody>\n",
       "</table>\n",
       "</div>"
      ],
      "text/plain": [
       "    Platform         Genre  Global  Review\n",
       "147     SNES        Puzzle    1.70  94.000\n",
       "143     SNES     Adventure    6.03  94.000\n",
       "8         DC        Action    1.14  93.630\n",
       "63       N64     Adventure   10.96  93.500\n",
       "12        DC        Sports    2.29  93.015\n",
       "69       N64  Role-Playing    1.38  92.000"
      ]
     },
     "execution_count": 18,
     "metadata": {},
     "output_type": "execute_result"
    }
   ],
   "source": [
    "platform_genre_review_sorted.head(6)"
   ]
  },
  {
   "cell_type": "markdown",
   "id": "e438a175",
   "metadata": {},
   "source": [
    "## North America"
   ]
  },
  {
   "cell_type": "code",
   "execution_count": 19,
   "id": "78b6cea7",
   "metadata": {},
   "outputs": [
    {
     "name": "stdout",
     "output_type": "stream",
     "text": [
      "Top 3 genres with the highest sales in North America:\n",
      "Genre\n",
      "Sports     354.62\n",
      "Shooter    333.40\n",
      "Action     320.88\n",
      "Name: North America, dtype: float64\n"
     ]
    }
   ],
   "source": [
    "# Find the top 3 genres with the highest sales in North America\n",
    "top_3_genres_na_sales = df.groupby('Genre')['North America'].sum().nlargest(3)\n",
    "print(\"Top 3 genres with the highest sales in North America:\")\n",
    "print(top_3_genres_na_sales)\n"
   ]
  },
  {
   "cell_type": "code",
   "execution_count": 20,
   "id": "ad4cd8f5",
   "metadata": {},
   "outputs": [
    {
     "name": "stdout",
     "output_type": "stream",
     "text": [
      "Top 3 platforms with the highest sales in North America:\n",
      "Platform\n",
      "PS2     400.07\n",
      "X360    335.44\n",
      "Wii     292.66\n",
      "Name: North America, dtype: float64\n"
     ]
    }
   ],
   "source": [
    "# Group the data by 'Platform' and sum the sales in North America\n",
    "platform_sales_na = df.groupby('Platform')['North America'].sum()\n",
    "top_3_platforms_na_sales = platform_sales_na.nlargest(3)\n",
    "print(\"Top 3 platforms with the highest sales in North America:\")\n",
    "print(top_3_platforms_na_sales)\n"
   ]
  },
  {
   "cell_type": "markdown",
   "id": "76904be6",
   "metadata": {},
   "source": [
    "## Europe"
   ]
  },
  {
   "cell_type": "code",
   "execution_count": 21,
   "id": "bd432e60",
   "metadata": {},
   "outputs": [
    {
     "name": "stdout",
     "output_type": "stream",
     "text": [
      "Top 3 genres with the highest sales in Europe\n",
      "Genre\n",
      "Sports     221.09\n",
      "Action     205.91\n",
      "Shooter    155.89\n",
      "Name: Europe, dtype: float64\n"
     ]
    }
   ],
   "source": [
    "top_3_genres_na_sales = df.groupby('Genre')['Europe'].sum().nlargest(3)\n",
    "print(\"Top 3 genres with the highest sales in Europe\")\n",
    "print(top_3_genres_na_sales)\n"
   ]
  },
  {
   "cell_type": "code",
   "execution_count": 22,
   "id": "9606818d",
   "metadata": {},
   "outputs": [
    {
     "name": "stdout",
     "output_type": "stream",
     "text": [
      "The platform with the highest sales in Europe is\n",
      "Platform\n",
      "PS2    268.53\n",
      "Wii    191.73\n",
      "PS3    160.70\n",
      "Name: Europe, dtype: float64\n"
     ]
    }
   ],
   "source": [
    "platform_sales_europe = df.groupby('Platform')['Europe'].sum()\n",
    "platform_with_highest_europe_sales = platform_sales_europe.idxmax()\n",
    "highest_europe_sales = platform_sales_europe.nlargest(3)\n",
    "print(\"The platform with the highest sales in Europe is\")\n",
    "print(highest_europe_sales)\n"
   ]
  },
  {
   "cell_type": "markdown",
   "id": "ee971ce5",
   "metadata": {},
   "source": [
    "## Japan"
   ]
  },
  {
   "cell_type": "code",
   "execution_count": 23,
   "id": "3ae6a389",
   "metadata": {},
   "outputs": [
    {
     "name": "stdout",
     "output_type": "stream",
     "text": [
      "Top 3 genres with the highest sales in Japan:\n",
      "Genre\n",
      "Role-Playing    169.32\n",
      "Platform        104.17\n",
      "Sports           56.47\n",
      "Name: Japan, dtype: float64\n"
     ]
    }
   ],
   "source": [
    "top_3_genres_na_sales = df.groupby('Genre')['Japan'].sum().nlargest(3)\n",
    "print(\"Top 3 genres with the highest sales in Japan:\")\n",
    "print(top_3_genres_na_sales)"
   ]
  },
  {
   "cell_type": "code",
   "execution_count": 24,
   "id": "95f40330",
   "metadata": {},
   "outputs": [
    {
     "name": "stdout",
     "output_type": "stream",
     "text": [
      "The platform with the highest sales in Japan is\n",
      "Platform\n",
      "DS     106.48\n",
      "NES     80.09\n",
      "PS      64.41\n",
      "Name: Japan, dtype: float64\n"
     ]
    }
   ],
   "source": [
    "platform_sales_europe = df.groupby('Platform')['Japan'].sum()\n",
    "platform_with_highest_europe_sales = platform_sales_europe.idxmax()\n",
    "highest_europe_sales = platform_sales_europe.nlargest(3)\n",
    "print(\"The platform with the highest sales in Japan is\")\n",
    "print(highest_europe_sales)"
   ]
  },
  {
   "cell_type": "code",
   "execution_count": null,
   "id": "7dde156b",
   "metadata": {},
   "outputs": [],
   "source": []
  },
  {
   "cell_type": "code",
   "execution_count": null,
   "id": "b0a2c868",
   "metadata": {},
   "outputs": [],
   "source": []
  }
 ],
 "metadata": {
  "kernelspec": {
   "display_name": "Python 3 (ipykernel)",
   "language": "python",
   "name": "python3"
  },
  "language_info": {
   "codemirror_mode": {
    "name": "ipython",
    "version": 3
   },
   "file_extension": ".py",
   "mimetype": "text/x-python",
   "name": "python",
   "nbconvert_exporter": "python",
   "pygments_lexer": "ipython3",
   "version": "3.9.12"
  }
 },
 "nbformat": 4,
 "nbformat_minor": 5
}
